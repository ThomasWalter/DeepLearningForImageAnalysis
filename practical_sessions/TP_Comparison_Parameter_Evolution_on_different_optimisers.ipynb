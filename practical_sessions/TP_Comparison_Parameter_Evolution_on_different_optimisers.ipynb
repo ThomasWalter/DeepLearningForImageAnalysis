{
 "cells": [
  {
   "cell_type": "code",
   "execution_count": null,
   "metadata": {},
   "outputs": [],
   "source": [
    "import numpy as np\n",
    "import matplotlib.pyplot as plt\n",
    "%matplotlib inline\n",
    "import keras\n",
    "from sklearn.model_selection import train_test_split\n",
    "#generate random data -- not linearly separable \n",
    "np.random.seed(0)\n",
    "N = 1000 # number of points per class\n",
    "D = 2 # dimensionality\n",
    "num_classes = 4 # number of classes\n",
    "X = np.zeros((N*num_classes,D))\n",
    "num_train_examples = X.shape[0]\n",
    "y = np.zeros(N*num_classes, dtype='uint8')\n",
    "for j in range(num_classes):\n",
    "    ix = range(N*j,N*(j+1))\n",
    "    r = np.linspace(0.0,1,N) # radius\n",
    "    t = np.linspace(j*4,(j+1)*4,N) + np.random.randn(N)*0.2 # theta\n",
    "    X[ix] = np.c_[r*np.sin(t), r*np.cos(t)]\n",
    "    y[ix] = j\n",
    "    \n",
    "fig = plt.figure()\n",
    "plt.scatter(X[:, 0], X[:, 1], c=y, s=40, cmap=plt.cm.Spectral)\n",
    "plt.title('Spiral Three Classes Problem')\n",
    "plt.show()\n",
    "\n",
    "\n",
    "X_train, X_val, y_train, y_val = train_test_split(X, y, test_size=0.33, random_state=42)\n",
    "\n",
    "y_train = keras.utils.to_categorical(y_train,num_classes)\n",
    "y_val = keras.utils.to_categorical(y_val,num_classes)"
   ]
  },
  {
   "cell_type": "code",
   "execution_count": null,
   "metadata": {},
   "outputs": [],
   "source": [
    "from keras.layers import Input, Dense\n",
    "from keras.models import Model"
   ]
  },
  {
   "cell_type": "code",
   "execution_count": null,
   "metadata": {},
   "outputs": [],
   "source": [
    "#The current model seems to stop without success.\n",
    "#Can you improve the performance keeping same number of neurons and layers? \n",
    "\n",
    "#Try different better set of parameters in the SGD optimizer:\n",
    "#a. OPTIMIZER=keras.optimizers.SGD(learning_rate=.75,decay=.1)\n",
    "#b. OPTIMIZER=keras.optimizers.SGD(learning_rate=.0001)\n",
    "#c. OPTIMIZER=keras.optimizers.SGD(learning_rate=1)\n",
    "#d. OPTIMIZER=keras.optimizers.SGD(learning_rate=.01)\n",
    "#e. OPTIMIZER=keras.optimizers.SGD(learning_rate=.01,momentum=.9, nesterov=False)\n",
    "#f. OPTIMIZER=keras.optimizers.SGD(learning_rate=.01,momentum=.9, nesterov=True)\n",
    "#Try different optimizers:\n",
    "#d. OPTIMIZER=keras.optimizers.Adam(learning_rate=.01)\n",
    "#e. OPTIMIZER=keras.optimizers.Nadam(learning_rate=.01)\n",
    "#Are activation function important?:\n",
    "#f.  Use Dense(5) instead of Dense(5,activation='relu')\n",
    "\n",
    "OPTIMIZER=keras.optimizers.SGD(learning_rate=.75)\n",
    "input_vec=Input(shape=(D,))\n",
    "x=Dense(5,activation='relu')(input_vec) \n",
    "x2=Dense(5,activation='relu')(x) \n",
    "x_out=Dense(num_classes, activation='softmax')(x2)\n",
    "model=Model(inputs=input_vec,outputs=x_out)\n",
    "model.summary()\n",
    "model.compile(optimizer=OPTIMIZER,loss=keras.losses.CategoricalCrossentropy())\n",
    "\n"
   ]
  },
  {
   "cell_type": "code",
   "execution_count": null,
   "metadata": {},
   "outputs": [],
   "source": [
    "from functools import reduce\n",
    "from keras.callbacks import LambdaCallback\n",
    "parameters_value=[]\n",
    "save_weights = LambdaCallback(on_epoch_end=lambda \n",
    "                               batch, logs: parameters_value.append(reduce(lambda x, y: np.concatenate([np.ndarray.flatten(x),np.ndarray.flatten(y)],axis=0), model.get_weights())))\n"
   ]
  },
  {
   "cell_type": "code",
   "execution_count": null,
   "metadata": {},
   "outputs": [],
   "source": [
    "history=model.fit(X_train,y_train,epochs=100,batch_size=24,callbacks=[save_weights],validation_data=[X_val,y_val])"
   ]
  },
  {
   "cell_type": "code",
   "execution_count": null,
   "metadata": {},
   "outputs": [],
   "source": [
    "plt.plot(history.history['loss'],label='training_loss')\n",
    "plt.plot(history.history['val_loss'],label='validation_loss')\n",
    "plt.legend()\n",
    "plt.xlabel('Number of Epochs')\n",
    "plt.xlabel('Loss function on training data')"
   ]
  },
  {
   "cell_type": "code",
   "execution_count": null,
   "metadata": {},
   "outputs": [],
   "source": [
    "plt.plot(parameters_value)\n",
    "plt.xlabel('Number of Epoch')\n",
    "plt.ylabel('Paramater Value')\n",
    "print('Flat zones in the parameters are associated with non-learning problems')\n",
    "print('Chaotics behavior in the parameters are associated with large learning rate values')"
   ]
  },
  {
   "cell_type": "code",
   "execution_count": null,
   "metadata": {},
   "outputs": [],
   "source": [
    "parameters_value=np.array(parameters_value)"
   ]
  },
  {
   "cell_type": "code",
   "execution_count": null,
   "metadata": {},
   "outputs": [],
   "source": [
    "plt.plot(np.mean(parameters_value,axis=0),np.std(parameters_value,axis=0),'.')\n",
    "plt.xlabel('Mean Value of Parameters')\n",
    "plt.ylabel('Std Value of Parameters')\n",
    "plt.title('All Epochs')\n",
    "plt.xlim(-2,2)\n",
    "plt.ylim(0,.5)"
   ]
  },
  {
   "cell_type": "code",
   "execution_count": null,
   "metadata": {},
   "outputs": [],
   "source": [
    "h = 0.02\n",
    "x_min, x_max = X[:, 0].min() - 1, X[:, 0].max() + 1\n",
    "y_min, y_max = X[:, 1].min() - 1, X[:, 1].max() + 1\n",
    "xx, yy = np.meshgrid(np.arange(x_min, x_max, h),\n",
    "                     np.arange(y_min, y_max, h))\n",
    "X_ = np.c_[xx.ravel(), yy.ravel()]\n",
    "\n",
    "Z = model.predict(X_)\n",
    "Z = np.argmax(Z, axis=1)\n",
    "Z = Z.reshape(xx.shape)\n",
    "fig = plt.figure()\n",
    "plt.contourf(xx, yy, Z, cmap=plt.cm.Spectral, alpha=0.7)\n",
    "plt.scatter(X[:, 0], X[:, 1], c=y, s=40, cmap=plt.cm.Spectral)\n",
    "plt.xlim(xx.min(), xx.max())\n",
    "plt.ylim(yy.min(), yy.max())\n",
    "plt.title('Classification Map')"
   ]
  },
  {
   "cell_type": "code",
   "execution_count": null,
   "metadata": {},
   "outputs": [],
   "source": []
  },
  {
   "cell_type": "code",
   "execution_count": null,
   "metadata": {},
   "outputs": [],
   "source": []
  }
 ],
 "metadata": {
  "kernelspec": {
   "display_name": "Python 3",
   "language": "python",
   "name": "python3"
  },
  "language_info": {
   "codemirror_mode": {
    "name": "ipython",
    "version": 3
   },
   "file_extension": ".py",
   "mimetype": "text/x-python",
   "name": "python",
   "nbconvert_exporter": "python",
   "pygments_lexer": "ipython3",
   "version": "3.6.8"
  }
 },
 "nbformat": 4,
 "nbformat_minor": 2
}
