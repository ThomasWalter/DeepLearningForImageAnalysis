{
 "cells": [
  {
   "cell_type": "code",
   "execution_count": null,
   "metadata": {
    "collapsed": false
   },
   "outputs": [],
   "source": [
    "import keras\n",
    "import numpy as np\n",
    "from keras.applications import vgg19\n",
    "from keras.applications.vgg19 import preprocess_input\n",
    "model = vgg19.VGG19(weights='imagenet', include_top=True)"
   ]
  },
  {
   "cell_type": "code",
   "execution_count": null,
   "metadata": {
    "collapsed": false
   },
   "outputs": [],
   "source": [
    "model.summary()"
   ]
  },
  {
   "cell_type": "code",
   "execution_count": null,
   "metadata": {
    "collapsed": false
   },
   "outputs": [],
   "source": [
    "image_path='/Users/Santiago/Documents/Database/davis-data/JPEGImages/480p/bear/00000.jpg'\n",
    "image_path='/Users/Santiago/Documents/Database/davis-data/JPEGImages/480p/boat/00000.jpg'\n",
    "image_path='/Users/Santiago/Documents/Database/davis-data/JPEGImages/480p/camel/00000.jpg'\n",
    "#image_path='/Users/Santiago/Documents/Database/davis-data/JPEGImages/480p/blackswan/00000.jpg'"
   ]
  },
  {
   "cell_type": "code",
   "execution_count": null,
   "metadata": {
    "collapsed": false
   },
   "outputs": [],
   "source": [
    "import matplotlib.pyplot as plt"
   ]
  },
  {
   "cell_type": "code",
   "execution_count": null,
   "metadata": {
    "collapsed": true
   },
   "outputs": [],
   "source": [
    "def decode_vgg(x):\n",
    "    xin=np.copy(x[:,:,:])\n",
    "    xin=xin.astype('float32')\n",
    "    xin[:,:,0]+=103.939\n",
    "    xin[:,:,1]+=116.779\n",
    "    xin[:,:,2]+=123.68\n",
    "    return xin[:, :, ::-1]"
   ]
  },
  {
   "cell_type": "code",
   "execution_count": null,
   "metadata": {
    "collapsed": false
   },
   "outputs": [],
   "source": [
    "from keras.preprocessing.image import load_img, img_to_array\n",
    "img = load_img(image_path,target_size=(224, 224))\n",
    "x = img_to_array(img)\n",
    "x = np.expand_dims(x, axis=0)\n",
    "x=x.astype('float32')\n",
    "x = preprocess_input(x)\n",
    "pred_class = model.predict(np.array(x))\n",
    "dec_pred=vgg19.decode_predictions(pred_class)\n",
    "#print(pred_class.shape)\n",
    "num_classes=pred_class.shape[1]\n",
    "plt.plot(pred_class[0,:],'.')\n",
    "plt.xlabel('Classes')\n",
    "plt.ylabel('Prediction')\n",
    "plt.title(dec_pred[0][0][1:])\n",
    "plt.show()\n",
    "pred_class=np.argmax(pred_class)\n"
   ]
  },
  {
   "cell_type": "code",
   "execution_count": null,
   "metadata": {
    "collapsed": true
   },
   "outputs": [],
   "source": [
    "from keras import losses\n",
    "import keras.backend as K\n",
    "input_class = K.zeros(shape=(1,num_classes))\n",
    "loss = losses.categorical_crossentropy(input_class, model.output)\n",
    "im_input = model.input # This is the input image\n",
    "grads = K.gradients(loss, im_input)[0] # the signs will acheive the desired effect\n",
    "grads /= K.maximum(K.mean(K.abs(grads)), K.epsilon()) # Normalize for numerical stability\n",
    "outputs = [grads]\n",
    "adv_noise = K.function([im_input, input_class], outputs)"
   ]
  },
  {
   "cell_type": "code",
   "execution_count": null,
   "metadata": {
    "collapsed": false
   },
   "outputs": [],
   "source": [
    "xiter=x\n",
    "pred_class = model.predict(np.reshape(np.array(x),[1,224,224,3]))\n",
    "pred_class=np.argmax(pred_class)\n",
    "label=np.zeros(num_classes)\n",
    "label[pred_class]=1"
   ]
  },
  {
   "cell_type": "code",
   "execution_count": null,
   "metadata": {
    "collapsed": false
   },
   "outputs": [],
   "source": [
    "S=adv_noise([xiter,np.expand_dims(label,0)])[0]\n",
    "plt.figure(figsize=(10,3))\n",
    "plt.subplot(1,3,1)\n",
    "plt.imshow(S[0,:,:,0])\n",
    "plt.subplot(132)\n",
    "plt.imshow(S[0,:,:,1])\n",
    "plt.subplot(133)\n",
    "plt.imshow(S[0,:,:,2])\n",
    "plt.show()\n",
    "\n",
    "print('Range of Adversarial Noise')\n",
    "print(S.max())\n",
    "print(S.min())\n",
    "\n",
    "\n",
    "\n"
   ]
  },
  {
   "cell_type": "code",
   "execution_count": null,
   "metadata": {
    "collapsed": false
   },
   "outputs": [],
   "source": [
    "for c in range(5):\n",
    "    Xadv=x+(c/10)*(S)\n",
    "    pred_class_adv = model.predict(Xadv)\n",
    "    dec_pred=vgg19.decode_predictions(pred_class_adv)\n",
    "    plt.plot(pred_class_adv[0,:],'.')\n",
    "    plt.xlabel('Classes')\n",
    "    plt.ylabel('Prediction')\n",
    "    plt.title(dec_pred[0][0][1:])\n",
    "    plt.show()\n",
    "    #pred_class_adv=np.argmax(pred_class_adv)\n",
    "    plt.imshow(decode_vgg((Xadv)[0,:,:,:])/255)\n",
    "    plt.show()"
   ]
  }
 ],
 "metadata": {
  "kernelspec": {
   "display_name": "Python 3",
   "language": "python",
   "name": "python3"
  },
  "language_info": {
   "codemirror_mode": {
    "name": "ipython",
    "version": 3
   },
   "file_extension": ".py",
   "mimetype": "text/x-python",
   "name": "python",
   "nbconvert_exporter": "python",
   "pygments_lexer": "ipython3",
   "version": "3.5.1"
  }
 },
 "nbformat": 4,
 "nbformat_minor": 2
}
