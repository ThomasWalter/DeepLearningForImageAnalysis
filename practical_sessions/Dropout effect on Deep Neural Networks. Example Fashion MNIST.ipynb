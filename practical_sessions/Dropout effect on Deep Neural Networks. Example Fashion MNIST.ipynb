{
 "cells": [
  {
   "cell_type": "markdown",
   "metadata": {},
   "source": [
    "# Training a Deep Model on Fashion MNIST\n",
    "\n"
   ]
  },
  {
   "cell_type": "markdown",
   "metadata": {},
   "source": [
    "Compare the following models:\n",
    "1. Given model\n",
    "2. Add Dropout after each Dense Layers (Find a good value of p)\n",
    "3. Change Dense Layers Activations to LeakyRelu\n"
   ]
  },
  {
   "cell_type": "code",
   "execution_count": null,
   "metadata": {
    "collapsed": false
   },
   "outputs": [],
   "source": [
    "import matplotlib.pyplot as plt\n",
    "import keras\n",
    "keras.backend.set_image_data_format('channels_last')\n",
    "\n",
    "import numpy as np\n",
    "\n",
    "from keras.optimizers import *\n",
    "from keras.models import Sequential, Model\n",
    "from keras.layers import Dense, Activation, Input\n",
    "from keras.layers import Dense, Dropout, Flatten, Reshape, Input, BatchNormalization, Conv2D, MaxPooling2D\n",
    "\n",
    "from keras.datasets import fashion_mnist\n",
    "from keras.utils import np_utils\n",
    "from sklearn.model_selection import train_test_split\n",
    "\n",
    "(x_train, y_train), (x_test, y_test) = fashion_mnist.load_data()\n",
    "x_train, x_val, y_train, y_val = train_test_split(x_train, y_train, test_size=0.2, random_state=np.random.randint(300))\n",
    "\n",
    "x_train=np.expand_dims(x_train,3)\n",
    "y_train = np_utils.to_categorical(y_train)\n",
    "x_val=np.expand_dims(x_val,3)\n",
    "y_val = np_utils.to_categorical(y_val)\n",
    "\n",
    "\n",
    "\n",
    "x_test=np.expand_dims(x_test,3)\n",
    "#y_test = np_utils.to_categorical(y_test)\n",
    "\n",
    "x_train=x_train/255\n",
    "x_test=x_test/255\n",
    "x_val=x_val/255\n",
    "input_shape=(28,28,1)\n",
    "num_classes=10"
   ]
  },
  {
   "cell_type": "code",
   "execution_count": null,
   "metadata": {
    "collapsed": true
   },
   "outputs": [],
   "source": [
    "from keras.layers import LeakyReLU"
   ]
  },
  {
   "cell_type": "code",
   "execution_count": null,
   "metadata": {
    "collapsed": true
   },
   "outputs": [],
   "source": [
    "num_epochs=25 #Number of Epochs"
   ]
  },
  {
   "cell_type": "code",
   "execution_count": null,
   "metadata": {
    "collapsed": false
   },
   "outputs": [],
   "source": [
    "#MODEL\n",
    "X_input = Input(input_shape)\n",
    "X=Conv2D(filters=32, kernel_size=(3, 3), padding=\"same\", activation='relu')(X_input)\n",
    "X=Conv2D(filters=64, kernel_size=(3, 3), padding=\"same\", activation='relu')(X)\n",
    "X=MaxPooling2D(pool_size=(2, 2))(X)\n",
    "#X=Dropout(0.5)(X)\n",
    "X=Conv2D(filters=128, kernel_size=(3, 3), padding=\"same\", activation='relu')(X)\n",
    "X=Conv2D(filters=256, kernel_size=(3, 3), padding=\"valid\", activation='relu')(X)\n",
    "X=MaxPooling2D(pool_size=(3, 3))(X)\n",
    "#X=Dropout(0.5)(X)\n",
    "X=Flatten()(X)\n",
    "X=Dense(256,activation='relu')(X)\n",
    "#X=LeakyReLU()(X)\n",
    "#X=Dropout(0.5)(X)\n",
    "X=Dense(256,activation='relu')(X)\n",
    "#X=LeakyReLU()(X)\n",
    "X=Dense(num_classes, activation='softmax')(X)\n",
    "model = Model(inputs=[X_input], outputs=[X])\n",
    "model.compile(loss='categorical_crossentropy', optimizer='adam', metrics=['accuracy'])\n",
    "model.summary()"
   ]
  },
  {
   "cell_type": "code",
   "execution_count": null,
   "metadata": {
    "collapsed": true
   },
   "outputs": [],
   "source": [
    "model.compile(optimizer=Adam(), loss='categorical_crossentropy',metrics=['accuracy'])"
   ]
  },
  {
   "cell_type": "code",
   "execution_count": null,
   "metadata": {
    "collapsed": false
   },
   "outputs": [],
   "source": [
    "training=model.fit(x_train, y_train, batch_size=64, epochs=num_epochs,validation_data=(x_val, y_val), verbose=1)"
   ]
  },
  {
   "cell_type": "code",
   "execution_count": null,
   "metadata": {
    "collapsed": true
   },
   "outputs": [],
   "source": []
  }
 ],
 "metadata": {
  "kernelspec": {
   "display_name": "Python 3",
   "language": "python",
   "name": "python3"
  },
  "language_info": {
   "codemirror_mode": {
    "name": "ipython",
    "version": 3
   },
   "file_extension": ".py",
   "mimetype": "text/x-python",
   "name": "python",
   "nbconvert_exporter": "python",
   "pygments_lexer": "ipython3",
   "version": "3.5.1"
  }
 },
 "nbformat": 4,
 "nbformat_minor": 2
}
