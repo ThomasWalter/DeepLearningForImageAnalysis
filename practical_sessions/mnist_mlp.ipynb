{
 "cells": [
  {
   "cell_type": "markdown",
   "metadata": {},
   "source": [
    "# Classifying digits using a fully connected neural network\n",
    "\n",
    "In this practical exercice a fully connected neural network (also called multi-layer perceptron) is built using keras. It is then trained to classify image digits from the MNIST database.\n",
    "\n",
    "Some baseline results:\n",
    "\n",
    "| Method                                                                      | Test error (%) |\n",
    "|-----------------------------------------------------------------------------|---------------:|\n",
    "| Linear classifier (LeCun et al. 1998)                                       |           12.0 |\n",
    "| K-nearest-neighbors, Euclidean (L2) (LeCun et al. 1998)                     |            5.0 |\n",
    "| 3-layer NN, 500-300, softmax, cross entropy, weight decay (Hinton, 2005)    |            1.5 |\n",
    "| Convolutional net LeNet-4 (LeCun et al. 1998)                               |            1.1 |\n",
    "| Virtual SVM deg-9 poly [data augmentation] (LeCun et al. 1998)              |            0.8 |\n",
    "| 6-layer NN with [data augmentation] (Ciresan et al. 2010)                   |           0.35 |\n",
    "| Deep conv. net, 7 layers [data augmentation] (Ciresan et al. IJCAI 2011)    |           0.35 |\n",
    "\n",
    "More results are available from: http://yann.lecun.com/exdb/mnist/\n",
    "\n",
    "Try to improve on some of these results, at least on those that do not use data augmentation or convolutional neural networks."
   ]
  },
  {
   "cell_type": "code",
   "execution_count": 1,
   "metadata": {},
   "outputs": [
    {
     "name": "stderr",
     "output_type": "stream",
     "text": [
      "Using TensorFlow backend.\n"
     ]
    }
   ],
   "source": [
    "import keras\n",
    "from keras.datasets import mnist as db\n",
    "from keras.models import Sequential\n",
    "from keras.layers import Dense\n",
    "import numpy as np\n",
    "import matplotlib.pyplot as plt\n",
    "\n",
    "# Magic used by the notebook to show figures inline\n",
    "%matplotlib inline\n",
    "# matplotlib default values\n",
    "plt.rcParams['figure.figsize'] = (10.0, 8.0)\n",
    "plt.rcParams['image.interpolation'] = 'nearest'\n",
    "plt.rcParams['image.cmap'] = 'gray'\n",
    "\n",
    "# auto-reloading packages\n",
    "%load_ext autoreload\n",
    "%autoreload 2\n",
    "\n"
   ]
  },
  {
   "cell_type": "code",
   "execution_count": 2,
   "metadata": {},
   "outputs": [],
   "source": [
<<<<<<< Updated upstream
||||||| merged common ancestors
    "batch_size = 128\n",
    "epochs = 20\n",
    "val_nb = 5000  # number of validation samples"
   ]
  },
  {
   "cell_type": "code",
   "execution_count": null,
   "metadata": {},
   "outputs": [],
   "source": [
=======
    "batch_size = 128\n",
    "epochs = 20\n",
    "val_nb = 5000  # number of validation samples"
   ]
  },
  {
   "cell_type": "code",
   "execution_count": 3,
   "metadata": {},
   "outputs": [
    {
     "name": "stdout",
     "output_type": "stream",
     "text": [
      "Class:  4\n"
     ]
    },
    {
     "data": {
      "image/png": "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\n",
      "text/plain": [
       "<Figure size 432x288 with 1 Axes>"
      ]
     },
     "metadata": {
      "needs_background": "light"
     },
     "output_type": "display_data"
    }
   ],
   "source": [
>>>>>>> Stashed changes
    "# Load and have a look at the data\n",
    "(x, y), (x_test_ori, y_test_ori) = db.load_data()\n",
    "\n",
    "# Visualize a single digit, with its class\n",
    "index = 2\n",
    "plt.imshow(x[index])\n",
    "print(\"Class: \", y[index])"
   ]
  },
  {
   "cell_type": "code",
   "execution_count": 4,
   "metadata": {},
   "outputs": [
    {
     "name": "stdout",
     "output_type": "stream",
     "text": [
      "(55000, 784) x train samples\n",
      "(5000, 784) x val samples\n",
      "(10000, 784) x test samples\n",
      "(55000,) y train samples\n",
      "(5000,) y val samples\n",
      "(10000,) y test samples\n"
     ]
    }
   ],
   "source": [
    "# Data management\n",
    "val_nb = 5000  # number of validation samples\n",
    "nb_samples = x.shape[0]\n",
    "\n",
    "if val_nb > nb_samples:\n",
    "    raise ValueError(\"You need some samples to train your network!\")\n",
    "\n",
    "x = x.reshape(nb_samples, 784)\n",
    "x_test = x_test_ori.reshape(x_test_ori.shape[0], 784)\n",
    "x = x.astype('float32')\n",
    "x_test = x_test.astype('float32')\n",
    "x /= 255\n",
    "x_test /= 255\n",
    "\n",
    "x_val = x[:val_nb, ]\n",
    "x_train = x[val_nb:, ]\n",
    "y_val = y[:val_nb]\n",
    "y_train = y[val_nb:]\n",
    "\n",
    "print(x_train.shape, 'x train samples')\n",
    "print(x_val.shape, 'x val samples')\n",
    "print(x_test.shape, 'x test samples')\n",
    "print(y_train.shape, 'y train samples')\n",
    "print(y_val.shape, 'y val samples')\n",
    "print(y_test_ori.shape, 'y test samples')\n",
    "\n",
    "# convert class vectors to binary class matrices\n",
    "num_classes = max(y) + 1\n",
    "y_train = keras.utils.to_categorical(y_train, num_classes)\n",
    "y_val = keras.utils.to_categorical(y_val, num_classes)\n",
    "y_test = keras.utils.to_categorical(y_test_ori, num_classes)\n"
   ]
  },
  {
   "cell_type": "markdown",
   "metadata": {},
   "source": [
    "# Model definition\n",
    "\n",
    "The following model uses keras to build a fully convolutional network. It has to respect some constraints:\n",
    "\n",
    "- The input shape has to match the size of each input sample. \n",
    "- The ouptput should be of size 10 (num_classes)\n",
    "\n",
    "Other than that, you change the number of layers as well as the size of each of them."
   ]
  },
  {
   "cell_type": "code",
   "execution_count": 5,
   "metadata": {},
   "outputs": [
    {
     "name": "stdout",
     "output_type": "stream",
     "text": [
      "_________________________________________________________________\n",
      "Layer (type)                 Output Shape              Param #   \n",
      "=================================================================\n",
      "dense_1 (Dense)              (None, 128)               100480    \n",
      "_________________________________________________________________\n",
      "dense_2 (Dense)              (None, 128)               16512     \n",
      "_________________________________________________________________\n",
      "dense_3 (Dense)              (None, 10)                1290      \n",
      "=================================================================\n",
      "Total params: 118,282\n",
      "Trainable params: 118,282\n",
      "Non-trainable params: 0\n",
      "_________________________________________________________________\n"
     ]
    }
   ],
   "source": [
    "model = Sequential()\n",
    "model.add(Dense(128, activation='relu', input_shape=(x_train.shape[1],)))\n",
    "model.add(Dense(128, activation='relu'))\n",
    "model.add(Dense(num_classes, activation='softmax'))\n",
    "\n",
    "model.summary()\n"
   ]
  },
  {
   "cell_type": "markdown",
   "metadata": {},
   "source": [
    "# Model training\n",
    "\n",
    "The following section takes care of training.\n",
    "\n",
    "Firstly, the model has to be 'compiled'. This operations lets the user choose the loss, the optimizer and the metrics, then configures the model for training.\n",
    "\n",
    "Secondly, the 'fit' method runs the optmization. Training and validation data are specified here, as well as batch size and the number of epochs."
   ]
  },
  {
   "cell_type": "code",
   "execution_count": 6,
   "metadata": {},
   "outputs": [
    {
     "name": "stdout",
     "output_type": "stream",
     "text": [
      "Train on 55000 samples, validate on 5000 samples\n",
      "Epoch 1/20\n",
      "55000/55000 [==============================] - 3s 47us/step - loss: 0.3142 - acc: 0.9088 - val_loss: 0.1761 - val_acc: 0.9502\n",
      "Epoch 2/20\n",
      "55000/55000 [==============================] - 1s 17us/step - loss: 0.1307 - acc: 0.9608 - val_loss: 0.1153 - val_acc: 0.9662\n",
      "Epoch 3/20\n",
      "55000/55000 [==============================] - 1s 15us/step - loss: 0.0902 - acc: 0.9728 - val_loss: 0.0992 - val_acc: 0.9714\n",
      "Epoch 4/20\n",
      "55000/55000 [==============================] - 1s 15us/step - loss: 0.0676 - acc: 0.9785 - val_loss: 0.0822 - val_acc: 0.9772\n",
      "Epoch 5/20\n",
      "55000/55000 [==============================] - 1s 15us/step - loss: 0.0542 - acc: 0.9838 - val_loss: 0.0790 - val_acc: 0.9778\n",
      "Epoch 6/20\n",
      "55000/55000 [==============================] - 1s 15us/step - loss: 0.0424 - acc: 0.9867 - val_loss: 0.0778 - val_acc: 0.9780\n",
      "Epoch 7/20\n",
      "55000/55000 [==============================] - 1s 15us/step - loss: 0.0336 - acc: 0.9895 - val_loss: 0.0767 - val_acc: 0.9772\n",
      "Epoch 8/20\n",
      "55000/55000 [==============================] - 1s 15us/step - loss: 0.0280 - acc: 0.9914 - val_loss: 0.0862 - val_acc: 0.9782\n",
      "Epoch 9/20\n",
      "55000/55000 [==============================] - 1s 15us/step - loss: 0.0229 - acc: 0.9927 - val_loss: 0.0921 - val_acc: 0.9752\n",
      "Epoch 10/20\n",
      "55000/55000 [==============================] - 1s 15us/step - loss: 0.0190 - acc: 0.9939 - val_loss: 0.0889 - val_acc: 0.9794\n",
      "Epoch 11/20\n",
      "55000/55000 [==============================] - 1s 15us/step - loss: 0.0154 - acc: 0.9951 - val_loss: 0.0854 - val_acc: 0.9786\n",
      "Epoch 12/20\n",
      "55000/55000 [==============================] - 1s 15us/step - loss: 0.0133 - acc: 0.9960 - val_loss: 0.0921 - val_acc: 0.9800\n",
      "Epoch 13/20\n",
      "55000/55000 [==============================] - 1s 15us/step - loss: 0.0114 - acc: 0.9966 - val_loss: 0.1053 - val_acc: 0.9768\n",
      "Epoch 14/20\n",
      "55000/55000 [==============================] - 1s 15us/step - loss: 0.0091 - acc: 0.9973 - val_loss: 0.1009 - val_acc: 0.9790\n",
      "Epoch 15/20\n",
      "55000/55000 [==============================] - 1s 16us/step - loss: 0.0085 - acc: 0.9975 - val_loss: 0.1239 - val_acc: 0.9784\n",
      "Epoch 16/20\n",
      "55000/55000 [==============================] - 1s 15us/step - loss: 0.0072 - acc: 0.9977 - val_loss: 0.1050 - val_acc: 0.9806\n",
      "Epoch 17/20\n",
      "55000/55000 [==============================] - 1s 15us/step - loss: 0.0066 - acc: 0.9978 - val_loss: 0.1003 - val_acc: 0.9816\n",
      "Epoch 18/20\n",
      "55000/55000 [==============================] - 1s 15us/step - loss: 0.0054 - acc: 0.9985 - val_loss: 0.1177 - val_acc: 0.9784\n",
      "Epoch 19/20\n",
      "55000/55000 [==============================] - 1s 15us/step - loss: 0.0054 - acc: 0.9983 - val_loss: 0.1184 - val_acc: 0.9796\n",
      "Epoch 20/20\n",
      "55000/55000 [==============================] - 1s 15us/step - loss: 0.0043 - acc: 0.9987 - val_loss: 0.1253 - val_acc: 0.9782\n"
     ]
    }
   ],
   "source": [
    "from keras.optimizers import SGD\n",
    "batch_size = 128\n",
    "epochs = 20\n",
    "learning_rate = 0.1\n",
    "\n",
    "model.compile(loss='categorical_crossentropy',\n",
    "              optimizer=SGD(lr=learning_rate),\n",
    "              metrics=['accuracy'])\n",
    "\n",
    "output = model.fit(x_train, y_train,\n",
    "                   batch_size=batch_size,\n",
    "                   epochs=epochs,\n",
    "                   validation_data=(x_val, y_val),\n",
    ")\n"
   ]
  },
  {
   "cell_type": "markdown",
   "metadata": {},
   "source": [
    "# Analysis of the results\n",
    "\n",
    "Visualizing what is going on is extremely important. For that:\n",
    "\n",
    "- inspecting traning and validation performance is essential;\n",
    "\n",
    "- looking at the errors might also be interesting.\n",
    "\n",
    "Is there overfitting? How can it be reduced?\n",
    "Is the network 'confident' when making errors?\n"
   ]
  },
  {
   "cell_type": "code",
   "execution_count": 7,
   "metadata": {},
   "outputs": [
    {
     "data": {
      "text/plain": [
       "<matplotlib.legend.Legend at 0x7fce2307eb38>"
      ]
     },
     "execution_count": 7,
     "metadata": {},
     "output_type": "execute_result"
    },
    {
     "data": {
      "image/png": "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\n",
      "text/plain": [
       "<Figure size 432x288 with 1 Axes>"
      ]
     },
     "metadata": {
      "needs_background": "light"
     },
     "output_type": "display_data"
    }
   ],
   "source": [
    "plt.plot(output.epoch, output.history['loss'], label='train')\n",
    "plt.plot(output.epoch, output.history['val_loss'], label='val')\n",
    "plt.title('Training and validation performance')\n",
    "plt.ylabel('loss')\n",
    "plt.xlabel('epoch')\n",
    "plt.legend()\n",
    "# plt.ylim(0.2, 0.8)"
   ]
  },
  {
   "cell_type": "code",
   "execution_count": 8,
   "metadata": {},
   "outputs": [
    {
     "name": "stdout",
     "output_type": "stream",
     "text": [
      "Correct label is:  3\n",
      "Predicted label is:  8\n",
      "Probabilities:  [1.6905294e-17 2.7146930e-16 2.2193303e-09 6.9117863e-03 2.4989637e-18\n",
      " 4.4007052e-08 1.0906285e-13 9.4539353e-14 9.9308819e-01 1.4162045e-10]\n"
     ]
    },
    {
     "data": {
      "text/plain": [
       "<matplotlib.image.AxesImage at 0x7fcd8c0f7128>"
      ]
     },
     "execution_count": 8,
     "metadata": {},
     "output_type": "execute_result"
    },
    {
     "data": {
      "image/png": "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\n",
      "text/plain": [
       "<Figure size 432x288 with 1 Axes>"
      ]
     },
     "metadata": {
      "needs_background": "light"
     },
     "output_type": "display_data"
    }
   ],
   "source": [
    "y_predict_proba = model.predict(x_test)\n",
    "# print(\"Prediction example:\", y_predict_proba[0])\n",
    "\n",
    "y_predict = np.argmax(y_predict_proba, 1)\n",
    "# print(y_predict[3000:3010])\n",
    "\n",
    "diff = y_test_ori != y_predict\n",
    "# print(\"Difference mask: \", diff)\n",
    "x_test_errors = x_test_ori[diff]\n",
    "y_test_errors = y_test_ori[diff]\n",
    "y_predict_errors = y_predict[diff]\n",
    "y_predict_proba_errors = y_predict_proba[diff]\n",
    "\n",
    "index = 0\n",
    "print(\"Correct label is: \", y_test_errors[index])\n",
    "print(\"Predicted label is: \", y_predict_errors[index])\n",
    "print(\"Probabilities: \", y_predict_proba_errors[index])\n",
    "plt.imshow(x_test_errors[index])"
   ]
  },
  {
   "cell_type": "markdown",
   "metadata": {},
   "source": [
    "# Testing\n",
    "\n",
    "Testing is the last stage of the learning process. Good practice recommends to do it only once, when you have completely finished with the optimization of the network parameters and hyperparameters."
   ]
  },
  {
   "cell_type": "code",
   "execution_count": null,
   "metadata": {},
   "outputs": [],
   "source": [
    "score = model.evaluate(x_test, y_test, verbose=0)\n",
    "print('Test loss:', score[0])\n",
    "print('Test accuracy:', score[1])"
   ]
  },
  {
   "cell_type": "markdown",
   "metadata": {},
   "source": [
    "# Experimenting with a more complex database\n",
    "\n",
    "In the second cell, you can replace:\n",
    "\n",
    "<code>from keras.datasets import mnist as db</code>\n",
    "\n",
    "with:\n",
    "\n",
    "<code>from keras.datasets import fashion_mnist as db</code>\n",
    "\n",
    "in order to experiment with a more complex database. The best test accuracy reported on this database is 0.967 (see https://github.com/zalandoresearch/fashion-mnist).\n",
    "\n",
    "You can use the following dictionary to transform number labels into meaningfull labels:"
   ]
  },
  {
   "cell_type": "code",
   "execution_count": null,
   "metadata": {},
   "outputs": [],
   "source": [
    "fashion_dict = {\n",
    "    0: \"T-shirt/top\",\n",
    "    1: \"Trouser\",\n",
    "    2: \"Pullover\",\n",
    "    3: \"Dress\",\n",
    "    4: \"Coat\",\n",
    "    5: \"Sandal\",\n",
    "    6: \"Shirt\",\n",
    "    7: \"Sneaker\",\n",
    "    8: \"Bag\",\n",
    "    9: \"Ankle boot\"\n",
    "    }\n",
    "\n",
    "print(fashion_dict[2])"
   ]
  },
  {
   "cell_type": "markdown",
   "metadata": {},
   "source": [
    "# Regularization\n",
    "\n",
    "If you run into overfitting problems, you can try to regularize your network. You can use L1 and L2 regularization and try different regularization weights.\n"
   ]
  },
  {
   "cell_type": "code",
   "execution_count": null,
   "metadata": {},
   "outputs": [],
   "source": [
    "from keras.regularizers import l1, l2\n",
    "\n",
    "reg_weight = 0.01\n",
    "\n",
    "model = Sequential()\n",
    "model.add(Dense(\n",
    "        128,\n",
    "        kernel_regularizer=l1(reg_weight),\n",
    "        activation='relu', \n",
    "        input_shape=(x_train.shape[1],)))\n",
    "model.add(Dense(\n",
    "        128,\n",
    "        kernel_regularizer=l1(reg_weight),\n",
    "        activation='relu'))\n",
    "model.add(Dense(\n",
    "        num_classes,\n",
    "        kernel_regularizer=l1(reg_weight),\n",
    "        activation='softmax'))"
   ]
  }
 ],
 "metadata": {
  "kernelspec": {
   "display_name": "Python 3",
   "language": "python",
   "name": "python3"
  },
  "language_info": {
   "codemirror_mode": {
    "name": "ipython",
    "version": 3
   },
   "file_extension": ".py",
   "mimetype": "text/x-python",
   "name": "python",
   "nbconvert_exporter": "python",
   "pygments_lexer": "ipython3",
   "version": "3.5.2"
  }
 },
 "nbformat": 4,
 "nbformat_minor": 2
}
