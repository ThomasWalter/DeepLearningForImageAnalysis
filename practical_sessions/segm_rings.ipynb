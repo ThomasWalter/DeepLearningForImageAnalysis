{
 "cells": [
  {
   "cell_type": "markdown",
   "metadata": {},
   "source": [
    "# Rings segmentation"
   ]
  },
  {
   "cell_type": "code",
   "execution_count": null,
   "metadata": {},
   "outputs": [],
   "source": [
    "import numpy as np\n",
    "import matplotlib.pyplot as plt\n",
    "from keras.optimizers import SGD, RMSprop, Adagrad, Adadelta, Adam\n",
    "\n",
    "import matplotlib.pyplot as plt\n",
    "\n",
    "# Magic used by the notebook to show figures inline\n",
    "%matplotlib inline\n",
    "# matplotlib default values\n",
    "plt.rcParams['figure.figsize'] = (10.0, 8.0)\n",
    "plt.rcParams['image.interpolation'] = 'nearest'\n",
    "plt.rcParams['image.cmap'] = 'gray'\n",
    "\n",
    "# auto-reloading packages\n",
    "%load_ext autoreload\n",
    "%autoreload 2\n",
    "\n",
    "# local package\n",
    "from dlia_tools.u_net import u_net\n",
    "from dlia_tools.keras_image2image import DeadLeavesWithSegmGenerator\n",
    "from dlia_tools.keras_custom_loss import jaccard2_loss\n",
    "from dlia_tools.random_image_generator import AdditiveGaussianNoise\n",
    "from dlia_tools.random_image_generator import ROG_disks, ROG_rings, RandomPosGenUniform, RandomIntGenUniform"
   ]
  },
  {
   "cell_type": "markdown",
   "metadata": {},
   "source": [
    "# Using a data generator"
   ]
  },
  {
   "cell_type": "code",
   "execution_count": null,
   "metadata": {},
   "outputs": [],
   "source": [
    "# ****  input data generator\n",
    "img_rows, img_cols = 32, 32\n",
    "img_channels = 1\n",
    "gauss_n_std = 40\n",
    "nb_obj_l = 1\n",
    "nb_obj_h = 4\n",
    "r1_disk_l = 2\n",
    "r1_disk_h = 4\n",
    "r1_ring_l = 4\n",
    "r1_ring_h = 8\n",
    "grey_l = 20\n",
    "grey_h = 200\n",
    "norm = 255  # normalization constant\n",
    "\n",
    "# List of random objects that will be used to build the image\n",
    "l_rog = [\n",
    "    ROG_rings(\n",
    "        RandomIntGenUniform(nb_obj_l, nb_obj_h),  # number of rings per image\n",
    "        RandomPosGenUniform(img_rows, img_cols),  # position\n",
    "        RandomIntGenUniform(r1_ring_l, r1_ring_h),  # range of values for ring outer radius\n",
    "        RandomIntGenUniform(grey_l, grey_h),  # grey level value\n",
    "        gt=1,  # should this object be included in the ground-truth\n",
    "        rad_ratio=0.5),  # ratio between inner and outer radius\n",
    "]\n",
    "\n",
    "noise = AdditiveGaussianNoise(gauss_n_std)\n",
    "datagen = DeadLeavesWithSegmGenerator(\n",
    "    img_rows,\n",
    "    img_cols,\n",
    "    l_rog,  # list of random object generators\n",
    "    noise,\n",
    "    background_val=0,\n",
    "    norm=norm  # normalization constant\n",
    "    )\n"
   ]
  },
  {
   "cell_type": "code",
   "execution_count": null,
   "metadata": {},
   "outputs": [],
   "source": [
    "nb_train_samples = 10000\n",
    "nb_val_samples = 1000\n",
    "(X_train, Y_train) = next(datagen.flow(batch_size=nb_train_samples))\n",
    "(X_val, Y_val) = next(datagen.flow(batch_size=nb_val_samples))"
   ]
  },
  {
   "cell_type": "code",
   "execution_count": null,
   "metadata": {},
   "outputs": [],
   "source": [
    "index = 0\n",
    "plt.subplot(1, 2, 1)\n",
    "plt.imshow(X_train[index, :, :, 0])\n",
    "plt.title(\"Image\")\n",
    "plt.subplot(1, 2, 2)\n",
    "plt.imshow(Y_train[index, :, :, 0])\n",
    "plt.title(\"Segm\")"
   ]
  },
  {
   "cell_type": "code",
   "execution_count": null,
   "metadata": {},
   "outputs": [],
   "source": [
    "# architecture params\n",
    "nb_filters_0 = 8\n",
    "sigma_noise = 0.01\n",
    "\n",
    "# ****  deep learning model\n",
    "shape = (img_rows, img_cols, img_channels)\n",
    "model = u_net(shape, nb_filters_0, sigma_noise=sigma_noise)\n",
    "\n",
    "# ****  train\n",
    "opt_name = 'sgd'  # choices:adadelta; sgd, rmsprop, adagrad, adam\n",
    "loss_func = jaccard2_loss  # mse, mae, binary_crossentropy, jaccard2_loss\n",
    "if opt_name == \"sgd\":\n",
    "    opt = SGD(lr=0.1)\n",
    "elif opt_name == \"rmsprop\":\n",
    "    opt = RMSprop()\n",
    "elif opt_name == \"adagrad\":\n",
    "    opt = Adagrad()\n",
    "elif opt_name == \"adadelta\":\n",
    "    opt = Adadelta()\n",
    "elif opt_name == \"adam\":\n",
    "    opt = Adam(lr=1e-5)\n",
    "else:\n",
    "    raise NameError(\"Wrong optimizer name\")\n",
    "model.compile(loss=loss_func, optimizer=opt)\n",
    "print(model.summary())"
   ]
  },
  {
   "cell_type": "code",
   "execution_count": null,
   "metadata": {},
   "outputs": [],
   "source": [
    "# fit params\n",
    "batch_size = 128\n",
    "\n",
    "nb_epoch = 20\n",
    "\n",
    "verbose = 1\n",
    "history = model.fit(X_train, Y_train,\n",
    "                    batch_size=batch_size,\n",
    "                    epochs=nb_epoch,\n",
    "                    validation_data=(X_val, Y_val),\n",
    "                    shuffle=True,\n",
    "                    verbose=verbose)"
   ]
  },
  {
   "cell_type": "code",
   "execution_count": null,
   "metadata": {},
   "outputs": [],
   "source": [
    "# **** #####################################\"\n",
    "print(\"Best validation loss: %.5f\" % (np.min(history.history['val_loss'])))\n",
    "print(\"at: %d\" % np.argmin(history.history['val_loss']))"
   ]
  },
  {
   "cell_type": "code",
   "execution_count": null,
   "metadata": {},
   "outputs": [],
   "source": [
    "plt.plot(history.epoch, history.history['loss'], label='train')\n",
    "plt.plot(history.epoch, history.history['val_loss'], label='val')\n",
    "plt.title('Training performance')\n",
    "plt.ylabel('loss')\n",
    "plt.xlabel('epoch')\n",
    "plt.legend()\n",
    "plt.ylim(0.0, 0.9)\n",
    "plt.show()"
   ]
  },
  {
   "cell_type": "markdown",
   "metadata": {},
   "source": [
    "# Test"
   ]
  },
  {
   "cell_type": "code",
   "execution_count": null,
   "metadata": {},
   "outputs": [],
   "source": [
    "(X_test, Y_test) = next(datagen.flow(batch_size=1))\n",
    "Y_pred = model.predict(X_test)\n",
    "plt.subplot(1, 3, 1)\n",
    "plt.imshow(X_test[0,:,:,0])\n",
    "plt.subplot(1, 3, 2)\n",
    "plt.imshow(Y_test[0,:,:,0])\n",
    "plt.subplot(1, 3, 3)\n",
    "plt.imshow(Y_pred[0,:,:,0])"
   ]
  },
  {
   "cell_type": "code",
   "execution_count": null,
   "metadata": {},
   "outputs": [],
   "source": [
    "# Quantitative evaluation\n",
    "from dlia_tools.eval import jaccard\n",
    "(X_test, Y_test) = next(datagen.flow(batch_size=100))\n",
    "Y_test_pred = model.predict(X_test)\n",
    "Y_train_pred = model.predict(X_train)\n",
    "Y_val_pred = model.predict(X_val)\n",
    "\n",
    "print(\"Jaccard on training set:\", jaccard(Y_train, Y_train_pred))\n",
    "print(\"Jaccard on validation set:\", jaccard(Y_val, Y_val_pred))\n",
    "print(\"Jaccard on test set:\", jaccard(Y_test, Y_test_pred))"
   ]
  },
  {
   "cell_type": "markdown",
   "metadata": {},
   "source": [
    "# Rings occluded by disks\n",
    "\n",
    "We are now dealing with a more complex problem: our rings can be occluded by random disks. \n",
    "\n",
    "Try to learn nevertheless to segment them. \n",
    "\n",
    "1) Is learning as easy as before?\n",
    "\n",
    "2) Does the network correctly predicts non-occluded ring pixels?\n",
    "\n",
    "3) Does it manage to segment occluded pixels?"
   ]
  },
  {
   "cell_type": "code",
   "execution_count": null,
   "metadata": {},
   "outputs": [],
   "source": [
    "# ****  input data generator\n",
    "img_rows, img_cols = 32, 32\n",
    "img_channels = 1\n",
    "gauss_n_std = 40\n",
    "nb_obj_l = 1\n",
    "nb_obj_h = 4\n",
    "r1_disk_l = 2\n",
    "r1_disk_h = 4\n",
    "r1_ring_l = 4\n",
    "r1_ring_h = 8\n",
    "grey_l = 20\n",
    "grey_h = 200\n",
    "norm = 255  # normalization constant\n",
    "\n",
    "# List of random objects that will be used to build the image\n",
    "l_rog = [\n",
    "    ROG_rings(\n",
    "        RandomIntGenUniform(nb_obj_l, nb_obj_h),\n",
    "        RandomPosGenUniform(img_rows, img_cols),\n",
    "        RandomIntGenUniform(r1_ring_l, r1_ring_h),\n",
    "        RandomIntGenUniform(grey_l, grey_h),\n",
    "        gt=1,\n",
    "        rad_ratio=0.5),\n",
    "    ROG_disks(\n",
    "        RandomIntGenUniform(3 * nb_obj_l, 3 * nb_obj_h),\n",
    "        RandomPosGenUniform(img_rows, img_cols),\n",
    "        RandomIntGenUniform(r1_ring_l, r1_ring_h),\n",
    "        RandomIntGenUniform(grey_l, grey_h),\n",
    "        gt=0),\n",
    "]\n",
    "\n",
    "noise = AdditiveGaussianNoise(gauss_n_std)\n",
    "datagen = DeadLeavesWithSegmGenerator(\n",
    "    img_rows,\n",
    "    img_cols,\n",
    "    l_rog,\n",
    "    noise,\n",
    "    background_val=0,\n",
    "    shuffle=False,\n",
    "    norm=norm)\n",
    "datagen_val = DeadLeavesWithSegmGenerator(\n",
    "    img_rows,\n",
    "    img_cols,\n",
    "    l_rog,\n",
    "    noise,\n",
    "    background_val=0,\n",
    "    shuffle=False,\n",
    "    norm=norm)"
   ]
  },
  {
   "cell_type": "code",
   "execution_count": null,
   "metadata": {},
   "outputs": [],
   "source": [
    "print(\"Generating images...\")\n",
    "(X_train, Y_train) = next(datagen.flow(batch_size=nb_train_samples))\n",
    "(X_val0, Y_val0) = next(datagen_val.flow(batch_size=nb_val_samples))\n",
    "print(\"Generation finished\")"
   ]
  },
  {
   "cell_type": "code",
   "execution_count": null,
   "metadata": {},
   "outputs": [],
   "source": [
    "index = 0\n",
    "plt.subplot(1, 2, 1)\n",
    "plt.imshow(X_train[index, :, :, 0])\n",
    "plt.title(\"Image\")\n",
    "plt.subplot(1, 2, 2)\n",
    "plt.imshow(Y_train[index, :, :, 0])\n",
    "plt.title(\"Segm\")"
   ]
  },
  {
   "cell_type": "markdown",
   "metadata": {},
   "source": [
    "# Model specificity\n",
    "\n",
    "Teach a model to segment a given type of rings - for example based on the ratio between outer and inner ring. How well will it segment other types of rings? How can this be improved?"
   ]
  }
 ],
 "metadata": {
  "kernelspec": {
   "display_name": "keras",
   "language": "python",
   "name": "keras"
  },
  "language_info": {
   "codemirror_mode": {
    "name": "ipython",
    "version": 3
   },
   "file_extension": ".py",
   "mimetype": "text/x-python",
   "name": "python",
   "nbconvert_exporter": "python",
   "pygments_lexer": "ipython3",
   "version": "3.6.8"
  }
 },
 "nbformat": 4,
 "nbformat_minor": 2
}
