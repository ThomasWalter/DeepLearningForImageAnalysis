{
 "cells": [
  {
   "cell_type": "markdown",
   "metadata": {},
   "source": [
    "# Rings segmentation"
   ]
  },
  {
   "cell_type": "code",
   "execution_count": 1,
   "metadata": {},
   "outputs": [
    {
     "name": "stderr",
     "output_type": "stream",
     "text": [
      "Using TensorFlow backend.\n"
     ]
    }
   ],
   "source": [
    "import numpy as np\n",
    "import matplotlib.pyplot as plt\n",
    "from keras.optimizers import SGD, RMSprop, Adagrad, Adadelta, Adam\n",
    "\n",
    "import matplotlib.pyplot as plt\n",
    "\n",
    "# Magic used by the notebook to show figures inline\n",
    "%matplotlib inline\n",
    "# matplotlib default values\n",
    "plt.rcParams['figure.figsize'] = (10.0, 8.0)\n",
    "plt.rcParams['image.interpolation'] = 'nearest'\n",
    "plt.rcParams['image.cmap'] = 'gray'\n",
    "\n",
    "# auto-reloading packages\n",
    "%load_ext autoreload\n",
    "%autoreload 2\n",
    "\n",
    "# local package\n",
    "from dlia_tools.u_net import u_net\n",
    "from dlia_tools.keras_image2image import DeadLeavesWithSegmGenerator\n",
    "from dlia_tools.keras_custom_loss import jaccard2_loss\n",
    "from dlia_tools.random_image_generator import AdditiveGaussianNoise\n",
    "from dlia_tools.random_image_generator import ROG_disks, ROG_rings, RandomPosGenUniform, RandomIntGenUniform"
   ]
  },
  {
   "cell_type": "markdown",
   "metadata": {},
   "source": [
    "# Using a data generator"
   ]
  },
  {
   "cell_type": "code",
   "execution_count": 2,
   "metadata": {},
   "outputs": [],
   "source": [
    "# ****  input data generator\n",
    "img_rows, img_cols = 32, 32\n",
    "img_channels = 1\n",
    "gauss_n_std = 40\n",
    "nb_obj_l = 1\n",
    "nb_obj_h = 4\n",
    "r1_disk_l = 2\n",
    "r1_disk_h = 4\n",
    "r1_ring_l = 4\n",
    "r1_ring_h = 8\n",
    "grey_l = 20\n",
    "grey_h = 200\n",
    "norm = 255  # normalization constant\n",
    "\n",
    "# List of random objects that will be used to build the image\n",
    "l_rog = [\n",
    "    ROG_rings(\n",
    "        RandomIntGenUniform(nb_obj_l, nb_obj_h),  # number of rings per image\n",
    "        RandomPosGenUniform(img_rows, img_cols),  # position\n",
    "        RandomIntGenUniform(r1_ring_l, r1_ring_h),  # range of values for ring outer radius\n",
    "        RandomIntGenUniform(grey_l, grey_h),  # grey level value\n",
    "        gt=1,  # should this object be included in the ground-truth\n",
    "        rad_ratio=0.5),  # ratio between inner and outer radius\n",
    "]\n",
    "\n",
    "noise = AdditiveGaussianNoise(gauss_n_std)\n",
    "datagen = DeadLeavesWithSegmGenerator(\n",
    "    img_rows,\n",
    "    img_cols,\n",
    "    l_rog,  # list of random object generators\n",
    "    noise,\n",
    "    background_val=0,\n",
    "    norm=norm  # normalization constant\n",
    "    )\n"
   ]
  },
  {
   "cell_type": "code",
   "execution_count": 4,
   "metadata": {},
   "outputs": [],
   "source": [
    "nb_train_samples = 10000\n",
    "nb_val_samples = 1000\n",
    "(X_train, Y_train) = next(datagen.flow(batch_size=nb_train_samples))\n",
    "(X_val, Y_val) = next(datagen.flow(batch_size=nb_val_samples))"
   ]
  },
  {
   "cell_type": "code",
   "execution_count": 5,
   "metadata": {},
   "outputs": [
    {
     "data": {
      "text/plain": [
       "Text(0.5, 1.0, 'Segm')"
      ]
     },
     "execution_count": 5,
     "metadata": {},
     "output_type": "execute_result"
    },
    {
     "data": {
      "image/png": "[encoded data removed]",
      "text/plain": [
       "<Figure size 432x288 with 2 Axes>"
      ]
     },
     "metadata": {
      "needs_background": "light"
     },
     "output_type": "display_data"
    }
   ],
   "source": [
    "index = 0\n",
    "plt.subplot(1, 2, 1)\n",
    "plt.imshow(X_train[index, :, :, 0])\n",
    "plt.title(\"Image\")\n",
    "plt.subplot(1, 2, 2)\n",
    "plt.imshow(Y_train[index, :, :, 0])\n",
    "plt.title(\"Segm\")"
   ]
  },
  {
   "cell_type": "code",
   "execution_count": 6,
   "metadata": {},
   "outputs": [
    {
     "name": "stdout",
     "output_type": "stream",
     "text": [
      "__________________________________________________________________________________________________\n",
      "Layer (type)                    Output Shape         Param #     Connected to                     \n",
      "==================================================================================================\n",
      "input_1 (InputLayer)            (None, 32, 32, 1)    0                                            \n",
      "__________________________________________________________________________________________________\n",
      "conv1_1 (Conv2D)                (None, 32, 32, 8)    80          input_1[0][0]                    \n",
      "__________________________________________________________________________________________________\n",
      "conv1_2 (Conv2D)                (None, 32, 32, 8)    584         conv1_1[0][0]                    \n",
      "__________________________________________________________________________________________________\n",
      "max_pooling2d_1 (MaxPooling2D)  (None, 16, 16, 8)    0           conv1_2[0][0]                    \n",
      "__________________________________________________________________________________________________\n",
      "conv2_1 (Conv2D)                (None, 16, 16, 16)   1168        max_pooling2d_1[0][0]            \n",
      "__________________________________________________________________________________________________\n",
      "conv2_2 (Conv2D)                (None, 16, 16, 16)   2320        conv2_1[0][0]                    \n",
      "__________________________________________________________________________________________________\n",
      "max_pooling2d_2 (MaxPooling2D)  (None, 8, 8, 16)     0           conv2_2[0][0]                    \n",
      "__________________________________________________________________________________________________\n",
      "conv3_1 (Conv2D)                (None, 8, 8, 32)     4640        max_pooling2d_2[0][0]            \n",
      "__________________________________________________________________________________________________\n",
      "conv3_2 (Conv2D)                (None, 8, 8, 32)     9248        conv3_1[0][0]                    \n",
      "__________________________________________________________________________________________________\n",
      "max_pooling2d_3 (MaxPooling2D)  (None, 4, 4, 32)     0           conv3_2[0][0]                    \n",
      "__________________________________________________________________________________________________\n",
      "conv4_1 (Conv2D)                (None, 4, 4, 64)     18496       max_pooling2d_3[0][0]            \n",
      "__________________________________________________________________________________________________\n",
      "conv4_2 (Conv2D)                (None, 4, 4, 64)     36928       conv4_1[0][0]                    \n",
      "__________________________________________________________________________________________________\n",
      "max_pooling2d_4 (MaxPooling2D)  (None, 2, 2, 64)     0           conv4_2[0][0]                    \n",
      "__________________________________________________________________________________________________\n",
      "conv5_1 (Conv2D)                (None, 2, 2, 128)    73856       max_pooling2d_4[0][0]            \n",
      "__________________________________________________________________________________________________\n",
      "conv5_2 (Conv2D)                (None, 2, 2, 128)    147584      conv5_1[0][0]                    \n",
      "__________________________________________________________________________________________________\n",
      "up_sampling2d_1 (UpSampling2D)  (None, 4, 4, 128)    0           conv5_2[0][0]                    \n",
      "__________________________________________________________________________________________________\n",
      "concatenate_1 (Concatenate)     (None, 4, 4, 192)    0           up_sampling2d_1[0][0]            \n",
      "                                                                 conv4_2[0][0]                    \n",
      "__________________________________________________________________________________________________\n",
      "conv6_1 (Conv2D)                (None, 4, 4, 64)     110656      concatenate_1[0][0]              \n",
      "__________________________________________________________________________________________________\n",
      "conv6_2 (Conv2D)                (None, 4, 4, 64)     36928       conv6_1[0][0]                    \n",
      "__________________________________________________________________________________________________\n",
      "up_sampling2d_2 (UpSampling2D)  (None, 8, 8, 64)     0           conv6_2[0][0]                    \n",
      "__________________________________________________________________________________________________\n",
      "concatenate_2 (Concatenate)     (None, 8, 8, 96)     0           up_sampling2d_2[0][0]            \n",
      "                                                                 conv3_2[0][0]                    \n",
      "__________________________________________________________________________________________________\n",
      "conv7_1 (Conv2D)                (None, 8, 8, 32)     27680       concatenate_2[0][0]              \n",
      "__________________________________________________________________________________________________\n",
      "conv7_2 (Conv2D)                (None, 8, 8, 32)     9248        conv7_1[0][0]                    \n",
      "__________________________________________________________________________________________________\n",
      "up_sampling2d_3 (UpSampling2D)  (None, 16, 16, 32)   0           conv7_2[0][0]                    \n",
      "__________________________________________________________________________________________________\n",
      "concatenate_3 (Concatenate)     (None, 16, 16, 48)   0           up_sampling2d_3[0][0]            \n",
      "                                                                 conv2_2[0][0]                    \n",
      "__________________________________________________________________________________________________\n",
      "conv8_1 (Conv2D)                (None, 16, 16, 16)   6928        concatenate_3[0][0]              \n",
      "__________________________________________________________________________________________________\n",
      "conv8_2 (Conv2D)                (None, 16, 16, 16)   2320        conv8_1[0][0]                    \n",
      "__________________________________________________________________________________________________\n",
      "up_sampling2d_4 (UpSampling2D)  (None, 32, 32, 16)   0           conv8_2[0][0]                    \n",
      "__________________________________________________________________________________________________\n",
      "concatenate_4 (Concatenate)     (None, 32, 32, 24)   0           up_sampling2d_4[0][0]            \n",
      "                                                                 conv1_2[0][0]                    \n",
      "__________________________________________________________________________________________________\n",
      "conv9_1 (Conv2D)                (None, 32, 32, 8)    1736        concatenate_4[0][0]              \n",
      "__________________________________________________________________________________________________\n",
      "conv9_2 (Conv2D)                (None, 32, 32, 8)    584         conv9_1[0][0]                    \n",
      "__________________________________________________________________________________________________\n",
      "gaussian_noise_1 (GaussianNoise (None, 32, 32, 8)    0           conv9_2[0][0]                    \n",
      "__________________________________________________________________________________________________\n",
      "conv_out (Conv2D)               (None, 32, 32, 1)    9           gaussian_noise_1[0][0]           \n",
      "==================================================================================================\n",
      "Total params: 490,993\n",
      "Trainable params: 490,993\n",
      "Non-trainable params: 0\n",
      "__________________________________________________________________________________________________\n",
      "None\n"
     ]
    }
   ],
   "source": [
    "# architecture params\n",
    "nb_filters_0 = 8\n",
    "sigma_noise = 0.01\n",
    "\n",
    "# ****  deep learning model\n",
    "shape = (img_rows, img_cols, img_channels)\n",
    "model = u_net(shape, nb_filters_0, sigma_noise=sigma_noise)\n",
    "\n",
    "# ****  train\n",
    "opt_name = 'sgd'  # choices:adadelta; sgd, rmsprop, adagrad, adam\n",
    "loss_func = jaccard2_loss  # mse, mae, binary_crossentropy, jaccard2_loss\n",
    "if opt_name == \"sgd\":\n",
    "    opt = SGD(lr=0.1)\n",
    "elif opt_name == \"rmsprop\":\n",
    "    opt = RMSprop()\n",
    "elif opt_name == \"adagrad\":\n",
    "    opt = Adagrad()\n",
    "elif opt_name == \"adadelta\":\n",
    "    opt = Adadelta()\n",
    "elif opt_name == \"adam\":\n",
    "    opt = Adam(lr=1e-5)\n",
    "else:\n",
    "    raise NameError(\"Wrong optimizer name\")\n",
    "model.compile(loss=loss_func, optimizer=opt)\n",
    "print(model.summary())"
   ]
  },
  {
   "cell_type": "code",
   "execution_count": 7,
   "metadata": {},
   "outputs": [
    {
     "name": "stdout",
     "output_type": "stream",
     "text": [
      "Train on 10000 samples, validate on 1000 samples\n",
      "Epoch 1/20\n",
      "10000/10000 [==============================] - 5s 494us/step - loss: 0.8156 - val_loss: 0.8108\n",
      "Epoch 2/20\n",
      "10000/10000 [==============================] - 2s 194us/step - loss: 0.7393 - val_loss: 0.5304\n",
      "Epoch 3/20\n",
      "10000/10000 [==============================] - 2s 193us/step - loss: 0.4120 - val_loss: 0.3473\n",
      "Epoch 4/20\n",
      "10000/10000 [==============================] - 2s 202us/step - loss: 0.2975 - val_loss: 0.3172\n",
      "Epoch 5/20\n",
      "10000/10000 [==============================] - 2s 208us/step - loss: 0.2412 - val_loss: 0.2241\n",
      "Epoch 6/20\n",
      "10000/10000 [==============================] - 2s 203us/step - loss: 0.2199 - val_loss: 0.2083\n",
      "Epoch 7/20\n",
      "10000/10000 [==============================] - 2s 199us/step - loss: 0.2073 - val_loss: 0.2412\n",
      "Epoch 8/20\n",
      "10000/10000 [==============================] - 2s 202us/step - loss: 0.2019 - val_loss: 0.2017\n",
      "Epoch 9/20\n",
      "10000/10000 [==============================] - 2s 205us/step - loss: 0.1918 - val_loss: 0.2011\n",
      "Epoch 10/20\n",
      "10000/10000 [==============================] - 2s 190us/step - loss: 0.1863 - val_loss: 0.1890\n",
      "Epoch 11/20\n",
      "10000/10000 [==============================] - 2s 189us/step - loss: 0.1809 - val_loss: 0.1799\n",
      "Epoch 12/20\n",
      "10000/10000 [==============================] - 2s 190us/step - loss: 0.1776 - val_loss: 0.1768\n",
      "Epoch 13/20\n",
      "10000/10000 [==============================] - 2s 190us/step - loss: 0.1767 - val_loss: 0.1753\n",
      "Epoch 14/20\n",
      "10000/10000 [==============================] - 2s 193us/step - loss: 0.1711 - val_loss: 0.1759\n",
      "Epoch 15/20\n",
      "10000/10000 [==============================] - 2s 193us/step - loss: 0.1663 - val_loss: 0.1960\n",
      "Epoch 16/20\n",
      "10000/10000 [==============================] - 2s 204us/step - loss: 0.1701 - val_loss: 0.1666\n",
      "Epoch 17/20\n",
      "10000/10000 [==============================] - 2s 189us/step - loss: 0.1651 - val_loss: 0.1692\n",
      "Epoch 18/20\n",
      "10000/10000 [==============================] - 2s 188us/step - loss: 0.1618 - val_loss: 0.1830\n",
      "Epoch 19/20\n",
      "10000/10000 [==============================] - 2s 189us/step - loss: 0.1614 - val_loss: 0.1652\n",
      "Epoch 20/20\n",
      "10000/10000 [==============================] - 2s 192us/step - loss: 0.1592 - val_loss: 0.1666\n"
     ]
    }
   ],
   "source": [
    "# fit params\n",
    "batch_size = 128\n",
    "\n",
    "nb_epoch = 20\n",
    "\n",
    "verbose = 1\n",
    "history = model.fit(X_train, Y_train,\n",
    "                    batch_size=batch_size,\n",
    "                    epochs=nb_epoch,\n",
    "                    validation_data=(X_val, Y_val),\n",
    "                    shuffle=True,\n",
    "                    verbose=verbose)"
   ]
  },
  {
   "cell_type": "code",
   "execution_count": 8,
   "metadata": {},
   "outputs": [
    {
     "name": "stdout",
     "output_type": "stream",
     "text": [
      "Best validation loss: 0.16521\n",
      "at: 18\n"
     ]
    }
   ],
   "source": [
    "# **** #####################################\"\n",
    "print(\"Best validation loss: %.5f\" % (np.min(history.history['val_loss'])))\n",
    "print(\"at: %d\" % np.argmin(history.history['val_loss']))"
   ]
  },
  {
   "cell_type": "code",
   "execution_count": 9,
   "metadata": {},
   "outputs": [
    {
     "data": {
      "image/png": "[encoded data removed]",
      "text/plain": [
       "<Figure size 432x288 with 1 Axes>"
      ]
     },
     "metadata": {
      "needs_background": "light"
     },
     "output_type": "display_data"
    }
   ],
   "source": [
    "plt.plot(history.epoch, history.history['loss'], label='train')\n",
    "plt.plot(history.epoch, history.history['val_loss'], label='val')\n",
    "plt.title('Training performance')\n",
    "plt.ylabel('loss')\n",
    "plt.xlabel('epoch')\n",
    "plt.legend()\n",
    "plt.ylim(0.0, 0.9)\n",
    "plt.show()"
   ]
  },
  {
   "cell_type": "markdown",
   "metadata": {},
   "source": [
    "# Test"
   ]
  },
  {
   "cell_type": "code",
   "execution_count": 10,
   "metadata": {},
   "outputs": [
    {
     "data": {
      "text/plain": [
       "<matplotlib.image.AxesImage at 0x7f72806d9198>"
      ]
     },
     "execution_count": 10,
     "metadata": {},
     "output_type": "execute_result"
    },
    {
     "data": {
      "image/png": "[encoded data removed]",
      "text/plain": [
       "<Figure size 432x288 with 3 Axes>"
      ]
     },
     "metadata": {
      "needs_background": "light"
     },
     "output_type": "display_data"
    }
   ],
   "source": [
    "(X_test, Y_test) = next(datagen.flow(batch_size=1))\n",
    "Y_pred = model.predict(X_test)\n",
    "plt.subplot(1, 3, 1)\n",
    "plt.imshow(X_test[0,:,:,0])\n",
    "plt.subplot(1, 3, 2)\n",
    "plt.imshow(Y_test[0,:,:,0])\n",
    "plt.subplot(1, 3, 3)\n",
    "plt.imshow(Y_pred[0,:,:,0])"
   ]
  },
  {
   "cell_type": "code",
   "execution_count": 11,
   "metadata": {},
   "outputs": [
    {
     "name": "stdout",
     "output_type": "stream",
     "text": [
      "Jaccard on training set: 0.725698\n",
      "Jaccard on validation set: 0.71624166\n",
      "Jaccard on test set: 0.7275265\n"
     ]
    }
   ],
   "source": [
    "# Quantitative evaluation\n",
    "from dlia_tools.eval import jaccard\n",
    "(X_test, Y_test) = next(datagen.flow(batch_size=100))\n",
    "Y_test_pred = model.predict(X_test)\n",
    "Y_train_pred = model.predict(X_train)\n",
    "Y_val_pred = model.predict(X_val)\n",
    "\n",
    "print(\"Jaccard on training set:\", jaccard(Y_train, Y_train_pred))\n",
    "print(\"Jaccard on validation set:\", jaccard(Y_val, Y_val_pred))\n",
    "print(\"Jaccard on test set:\", jaccard(Y_test, Y_test_pred))"
   ]
  },
  {
   "cell_type": "markdown",
   "metadata": {},
   "source": [
    "# Rings occluded by disks\n",
    "\n",
    "We are now dealing with a more complex problem: our rings can be occluded by random disks. \n",
    "\n",
    "Try to learn nevertheless to segment them. \n",
    "\n",
    "1) Is learning as easy as before?\n",
    "\n",
    "2) Does the network correctly predicts non-occluded ring pixels?\n",
    "\n",
    "3) Does it manage to segment occluded pixels?"
   ]
  },
  {
   "cell_type": "code",
   "execution_count": 12,
   "metadata": {},
   "outputs": [],
   "source": [
    "# ****  input data generator\n",
    "img_rows, img_cols = 32, 32\n",
    "img_channels = 1\n",
    "gauss_n_std = 40\n",
    "nb_obj_l = 1\n",
    "nb_obj_h = 4\n",
    "r1_disk_l = 2\n",
    "r1_disk_h = 4\n",
    "r1_ring_l = 4\n",
    "r1_ring_h = 8\n",
    "grey_l = 20\n",
    "grey_h = 200\n",
    "norm = 255  # normalization constant\n",
    "\n",
    "# List of random objects that will be used to build the image\n",
    "l_rog = [\n",
    "    ROG_rings(\n",
    "        RandomIntGenUniform(nb_obj_l, nb_obj_h),\n",
    "        RandomPosGenUniform(img_rows, img_cols),\n",
    "        RandomIntGenUniform(r1_ring_l, r1_ring_h),\n",
    "        RandomIntGenUniform(grey_l, grey_h),\n",
    "        gt=1,\n",
    "        rad_ratio=0.5),\n",
    "    ROG_disks(\n",
    "        RandomIntGenUniform(3 * nb_obj_l, 3 * nb_obj_h),\n",
    "        RandomPosGenUniform(img_rows, img_cols),\n",
    "        RandomIntGenUniform(r1_ring_l, r1_ring_h),\n",
    "        RandomIntGenUniform(grey_l, grey_h),\n",
    "        gt=0),\n",
    "]\n",
    "\n",
    "noise = AdditiveGaussianNoise(gauss_n_std)\n",
    "datagen = DeadLeavesWithSegmGenerator(\n",
    "    img_rows,\n",
    "    img_cols,\n",
    "    l_rog,\n",
    "    noise,\n",
    "    background_val=0,\n",
    "    shuffle=False,\n",
    "    norm=norm)\n",
    "datagen_val = DeadLeavesWithSegmGenerator(\n",
    "    img_rows,\n",
    "    img_cols,\n",
    "    l_rog,\n",
    "    noise,\n",
    "    background_val=0,\n",
    "    shuffle=False,\n",
    "    norm=norm)"
   ]
  },
  {
   "cell_type": "code",
   "execution_count": 13,
   "metadata": {},
   "outputs": [
    {
     "name": "stdout",
     "output_type": "stream",
     "text": [
      "Generating images...\n",
      "Generation finished\n"
     ]
    }
   ],
   "source": [
    "print(\"Generating images...\")\n",
    "(X_train, Y_train) = next(datagen.flow(batch_size=nb_train_samples))\n",
    "(X_val0, Y_val0) = next(datagen_val.flow(batch_size=nb_val_samples))\n",
    "print(\"Generation finished\")"
   ]
  },
  {
   "cell_type": "code",
   "execution_count": 14,
   "metadata": {},
   "outputs": [
    {
     "data": {
      "text/plain": [
       "Text(0.5, 1.0, 'Segm')"
      ]
     },
     "execution_count": 14,
     "metadata": {},
     "output_type": "execute_result"
    },
    {
     "data": {
      "image/png": "[encoded data removed]",
      "text/plain": [
       "<Figure size 432x288 with 2 Axes>"
      ]
     },
     "metadata": {
      "needs_background": "light"
     },
     "output_type": "display_data"
    }
   ],
   "source": [
    "index = 0\n",
    "plt.subplot(1, 2, 1)\n",
    "plt.imshow(X_train[index, :, :, 0])\n",
    "plt.title(\"Image\")\n",
    "plt.subplot(1, 2, 2)\n",
    "plt.imshow(Y_train[index, :, :, 0])\n",
    "plt.title(\"Segm\")"
   ]
  },
  {
   "cell_type": "markdown",
   "metadata": {},
   "source": [
    "# Model specificity\n",
    "\n",
    "Teach a model to segment a given type of rings - for example based on the ratio between outer and inner ring. How well will it segment other types of rings? How can this be improved?"
   ]
  }
 ],
 "metadata": {
  "kernelspec": {
   "display_name": "Python 3",
   "language": "python",
   "name": "python3"
  },
  "language_info": {
   "codemirror_mode": {
    "name": "ipython",
    "version": 3
   },
   "file_extension": ".py",
   "mimetype": "text/x-python",
   "name": "python",
   "nbconvert_exporter": "python",
   "pygments_lexer": "ipython3",
   "version": "3.5.2"
  }
 },
 "nbformat": 4,
 "nbformat_minor": 2
}
