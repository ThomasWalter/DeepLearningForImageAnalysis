{
 "cells": [
  {
   "cell_type": "code",
   "execution_count": null,
   "metadata": {
    "collapsed": false
   },
   "outputs": [],
   "source": [
    "import numpy as np\n",
    "import matplotlib.pyplot as plt\n",
    "from scipy.ndimage.morphology import distance_transform_edt\n",
    "import keras\n",
    "listOut=[]\n",
    "listA=[]\n",
    "listB=[]\n",
    "for i in range(1000):\n",
    "    X=np.zeros([28,28])\n",
    "    a=np.random.randint(28)\n",
    "    X[a,1]=1\n",
    "    b=np.random.randint(28)\n",
    "    #b=14\n",
    "    X[b,27]=1\n",
    "    A=distance_transform_edt(X==0)<10\n",
    "    listOut.append(A)\n",
    "    listA.append(a)\n",
    "    listB.append(b)\n",
    "#plt.imshow(A>10)\n",
    "#plt.show()\n",
    "plt.imshow(A)\n",
    "plt.show()\n",
    "plt.imshow(listOut[10])\n",
    "plt.show()"
   ]
  },
  {
   "cell_type": "code",
   "execution_count": null,
   "metadata": {
    "collapsed": false
   },
   "outputs": [],
   "source": [
    "plt.plot(listA,listB,'.')\n",
    "plt.show()"
   ]
  },
  {
   "cell_type": "code",
   "execution_count": null,
   "metadata": {
    "collapsed": false
   },
   "outputs": [],
   "source": [
    "print(np.array(listOut).shape)\n",
    "listOut=np.expand_dims(np.array(listOut),axis=3)*1\n",
    "print(np.array(listOut).shape)\n",
    "listOut = listOut.astype('float32')"
   ]
  },
  {
   "cell_type": "code",
   "execution_count": null,
   "metadata": {
    "collapsed": false
   },
   "outputs": [],
   "source": [
    "from __future__ import print_function\n",
    "\n",
    "import numpy as np\n",
    "import matplotlib.pyplot as plt\n",
    "from scipy.stats import norm\n",
    "\n",
    "from keras.layers import Input, Dense, Lambda, Flatten, Reshape\n",
    "from keras.layers import Conv2D, Conv2DTranspose\n",
    "from keras.models import Model\n",
    "from keras import backend as K\n",
    "from keras import metrics\n",
    "from keras.datasets import mnist\n",
    "\n",
    "# input image dimensions\n",
    "img_rows, img_cols, img_chns = 28, 28, 1\n",
    "# number of convolutional filters to use\n",
    "filters = 16\n",
    "# convolution kernel size\n",
    "num_conv = 3\n",
    "\n",
    "batch_size = 12\n",
    "if K.image_data_format() == 'channels_first':\n",
    "    original_img_size = (img_chns, img_rows, img_cols)\n",
    "else:\n",
    "    original_img_size = (img_rows, img_cols, img_chns)\n",
    "latent_dim = 2\n",
    "intermediate_dim = 32\n",
    "epsilon_std = 1.0\n",
    "epochs = 50\n",
    "\n",
    "\n"
   ]
  },
  {
   "cell_type": "code",
   "execution_count": null,
   "metadata": {
    "collapsed": false
   },
   "outputs": [],
   "source": [
    "#Decoder Model\n",
    "\n",
    "output_shape = (batch_size, 14, 14, filters)\n",
    "xdec = Input(shape=(latent_dim,),name='decoder_input')\n",
    "dec_hid = Dense(intermediate_dim, activation='relu')(xdec)\n",
    "dec_upsample = Dense(filters * 14 * 14, activation='relu')(dec_hid)\n",
    "dec_reshape = Reshape(output_shape[1:])(dec_upsample)\n",
    "dec_deconv_1 = Conv2DTranspose(filters,kernel_size=(3,3),padding='same',strides=(2,2),activation='relu')(dec_reshape)\n",
    "dec_deconv_1 = Conv2D(1,kernel_size=(1,1),padding='same',strides=(1,1),activation='relu')(dec_deconv_1)\n",
    "Decoder= Model(xdec, outputs=dec_deconv_1)\n",
    "Decoder.summary()\n",
    "\n"
   ]
  },
  {
   "cell_type": "code",
   "execution_count": null,
   "metadata": {
    "collapsed": false
   },
   "outputs": [],
   "source": [
    "#Encoder for Variational AutoEncoder \n",
    "\n",
    "x = Input(shape=original_img_size,name='main_input')\n",
    "conv_1 = Conv2D(img_chns,kernel_size=(2, 2),padding='same', activation='relu')(x)\n",
    "conv_2 = Conv2D(filters,kernel_size=(2, 2),padding='same', activation='relu',strides=(2, 2))(conv_1)\n",
    "conv_3 = Conv2D(filters,kernel_size=num_conv,padding='same', activation='relu',strides=1)(conv_2)\n",
    "conv_4 = Conv2D(filters,kernel_size=num_conv,padding='same', activation='relu',strides=1)(conv_3)\n",
    "flat = Flatten()(conv_4)\n",
    "hidden = Dense(latent_dim, activation='relu')(flat)\n",
    "\n",
    "encoder=Model(x,outputs=hidden)\n",
    "encoder.compile(optimizer='adam', loss='mse')\n",
    "encoder.summary()\n",
    "\n",
    "ae=Model(x, outputs=Decoder(hidden))\n",
    "ae.summary()\n",
    "\n"
   ]
  },
  {
   "cell_type": "code",
   "execution_count": null,
   "metadata": {
    "collapsed": false
   },
   "outputs": [],
   "source": [
    "ae.compile(optimizer='adam', loss='mse')\n",
    "ae.summary()\n",
    "\n",
    "ae.fit(x=listOut, y=listOut,shuffle=True,epochs=30,batch_size=batch_size)"
   ]
  },
  {
   "cell_type": "code",
   "execution_count": null,
   "metadata": {
    "collapsed": false
   },
   "outputs": [],
   "source": [
    "proj=encoder.predict(listOut)"
   ]
  },
  {
   "cell_type": "code",
   "execution_count": null,
   "metadata": {
    "collapsed": false
   },
   "outputs": [],
   "source": [
    "import matplotlib.pyplot as plt\n",
    "plt.plot(proj[:,0],proj[:,1],'.')\n",
    "plt.xlabel('Latent Variable 1')\n",
    "plt.ylabel('Latent Variable 2')\n",
    "plt.show()\n",
    "\n",
    "plt.plot(proj[:,0],listA,'.')\n",
    "plt.xlabel('Latent Variable 1')\n",
    "plt.ylabel('First Coordinate on Manifold')\n",
    "plt.show()\n",
    "plt.plot(proj[:,1],listB,'.')\n",
    "plt.xlabel('Latent Variable 2')\n",
    "plt.ylabel('Second Coordinate on Manifold')\n",
    "plt.show()"
   ]
  },
  {
   "cell_type": "code",
   "execution_count": null,
   "metadata": {
    "collapsed": false
   },
   "outputs": [],
   "source": [
    "from scipy.stats import norm\n",
    "n = 25\n",
    "digit_size = 28\n",
    "figure = np.zeros((digit_size * n, digit_size * n))\n",
    "grid_x = np.linspace(0, 25, n)\n",
    "grid_y = np.linspace(0, 25, n)\n",
    "for i, yi in enumerate(grid_x):\n",
    "    for j, xi in enumerate(grid_y):\n",
    "        z_sample = np.array([[xi, yi]])\n",
    "        z_sample = np.tile(z_sample, batch_size).reshape(batch_size, 2)\n",
    "        x_decoded = Decoder.predict(z_sample, batch_size=batch_size)\n",
    "        digit = x_decoded[0].reshape(digit_size, digit_size)\n",
    "        figure[i * digit_size: (i + 1) * digit_size,j * digit_size: (j + 1) * digit_size] = digit\n",
    "plt.figure(figsize=(10, 10))\n",
    "plt.imshow(figure>0, cmap='Greys_r')\n",
    "plt.show()\n",
    "\n",
    "#plt.figure(figsize=(10, 10))\n",
    "#plt.imshow(figure>0.1, cmap='Greys_r')\n",
    "#plt.show()"
   ]
  },
  {
   "cell_type": "code",
   "execution_count": null,
   "metadata": {
    "collapsed": false
   },
   "outputs": [],
   "source": [
    "from keras import losses\n",
    "class_input = K.zeros(shape=(1,28,28,1))\n",
    "loss = losses.mse(class_input, ae.output)\n",
    "im_input = ae.input # This is the input image\n",
    "grads = K.gradients(loss, im_input)[0] # the signs will acheive the desired effect\n",
    "grads /= K.maximum(K.mean(K.abs(grads)), K.epsilon()) # Normalize for numerical stability\n",
    "outputs = [grads]\n",
    "adv_noise = K.function([im_input, class_input], outputs)"
   ]
  },
  {
   "cell_type": "code",
   "execution_count": null,
   "metadata": {
    "collapsed": false
   },
   "outputs": [],
   "source": [
    "original_img_size"
   ]
  },
  {
   "cell_type": "code",
   "execution_count": null,
   "metadata": {
    "collapsed": false
   },
   "outputs": [],
   "source": [
    "imin=listOut[0:1,:,:,:]\n",
    "res=adv_noise([np.expand_dims(imin[0,:,:,:],axis=0),np.expand_dims(imin[0,:,:,:],axis=0)])"
   ]
  },
  {
   "cell_type": "code",
   "execution_count": null,
   "metadata": {
    "collapsed": false
   },
   "outputs": [],
   "source": [
    "plt.imshow(listOut[0,:,:,0])\n",
    "plt.show()\n",
    "plt.imshow(res[0][0,:,:,0])\n",
    "plt.show()"
   ]
  },
  {
   "cell_type": "raw",
   "metadata": {},
   "source": []
  }
 ],
 "metadata": {
  "kernelspec": {
   "display_name": "Python 3",
   "language": "python",
   "name": "python3"
  },
  "language_info": {
   "codemirror_mode": {
    "name": "ipython",
    "version": 3
   },
   "file_extension": ".py",
   "mimetype": "text/x-python",
   "name": "python",
   "nbconvert_exporter": "python",
   "pygments_lexer": "ipython3",
   "version": "3.5.1"
  }
 },
 "nbformat": 4,
 "nbformat_minor": 2
}
