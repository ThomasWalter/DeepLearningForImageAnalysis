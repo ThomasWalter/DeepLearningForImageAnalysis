{
 "cells": [
  {
   "cell_type": "markdown",
   "metadata": {},
   "source": [
    "# Tissue segmentation\n",
    "In this situation, we have very few training data..."
   ]
  },
  {
   "cell_type": "code",
   "execution_count": null,
   "metadata": {},
   "outputs": [],
   "source": [
    "\n",
    "import numpy as np\n",
    "import matplotlib.pyplot as plt\n",
    "from keras.optimizers import SGD, RMSprop, Adagrad, Adadelta, Adam\n",
    "\n",
    "import matplotlib.pyplot as plt\n",
    "\n",
    "# Magic used by the notebook to show figures inline\n",
    "%matplotlib inline\n",
    "# matplotlib default values\n",
    "plt.rcParams['figure.figsize'] = (20.0, 16.0)\n",
    "plt.rcParams['image.interpolation'] = 'nearest'\n",
    "plt.rcParams['image.cmap'] = 'gray'\n",
    "\n",
    "# auto-reloading packages\n",
    "%load_ext autoreload\n",
    "%autoreload 2\n",
    "\n",
    "# local package\n",
    "from dlia_tools.u_net import u_net\n",
    "from dlia_tools.keras_custom_loss import jaccard2_loss\n",
    "from dlia_tools.pj_utils import load_tissue_segmentation_data, augment_images"
   ]
  },
  {
   "cell_type": "code",
   "execution_count": null,
   "metadata": {},
   "outputs": [],
   "source": [
    "path = \"./../../data_tissue/\"\n",
    "\n",
    "X_train, Y_train = load_tissue_segmentation_data(path, prefix=\"train\")\n",
    "n_train = X_train.shape[0]\n",
    "X_val, Y_val = load_tissue_segmentation_data(path, prefix=\"val\")\n",
    "n_val = X_val.shape[0]\n",
    "X_test, Y_test = load_tissue_segmentation_data(path, prefix=\"test\")\n",
    "n_test = X_test.shape[0]\n",
    "print(\"We have {} training samples, {} validation samples and {} testing samples\".format(n_train, n_val, n_test))"
   ]
  },
  {
   "cell_type": "code",
   "execution_count": null,
   "metadata": {},
   "outputs": [],
   "source": [
    "index = 0\n",
    "plt.rcParams['figure.figsize'] = (20.0, 16.0)\n",
    "plt.subplot(1, 2, 1)\n",
    "plt.imshow(X_test[index, :, :].astype('uint8'))\n",
    "plt.title(\"Image\")\n",
    "plt.subplot(1, 2, 2)\n",
    "plt.imshow(Y_test[index, :, :, 0])\n",
    "plt.title(\"Segm\")"
   ]
  },
  {
   "cell_type": "markdown",
   "metadata": {},
   "source": [
    "# Data augmentation for segmentation"
   ]
  },
  {
   "cell_type": "code",
   "execution_count": null,
   "metadata": {},
   "outputs": [],
   "source": [
    "X_train, Y_train = augment_images(X_train, Y_train)\n",
    "print(X_train.shape)"
   ]
  },
  {
   "cell_type": "code",
   "execution_count": null,
   "metadata": {},
   "outputs": [],
   "source": [
    "sub_index = 0 # between 0 and n_train\n",
    "\n",
    "plt.subplot(1, 4, 1)\n",
    "plt.imshow(X_train[sub_index, :, :].astype('uint8'))\n",
    "plt.title(\"Image\")\n",
    "plt.subplot(1, 4, 2)\n",
    "plt.imshow(Y_train[sub_index, :, :, 0])\n",
    "plt.title(\"Segm\")\n",
    "\n",
    "k = 2 # augmentation number between 0 and 6\n",
    "index = sub_index + k * n_train\n",
    "\n",
    "plt.subplot(1, 4, 3)\n",
    "plt.imshow(X_train[index, :, :].astype('uint8'))\n",
    "plt.title(\"Image\")\n",
    "plt.subplot(1, 4, 4)\n",
    "plt.imshow(Y_train[index, :, :, 0])\n",
    "plt.title(\"Segm\")"
   ]
  }
 ],
 "metadata": {
  "kernelspec": {
   "display_name": "Python 3",
   "language": "python",
   "name": "python3"
  },
  "language_info": {
   "codemirror_mode": {
    "name": "ipython",
    "version": 3
   },
   "file_extension": ".py",
   "mimetype": "text/x-python",
   "name": "python",
   "nbconvert_exporter": "python",
   "pygments_lexer": "ipython3",
   "version": "3.5.5"
  }
 },
 "nbformat": 4,
 "nbformat_minor": 2
}
