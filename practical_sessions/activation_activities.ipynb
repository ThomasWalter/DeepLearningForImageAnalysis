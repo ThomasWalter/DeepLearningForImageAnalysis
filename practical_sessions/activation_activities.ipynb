{
 "cells": [
  {
   "cell_type": "markdown",
   "metadata": {},
   "source": [
    "# Neural network activations\n",
    "\n",
    "Activations are functions used after each neural network in order to post-process the output. This post-processing is in practice non-linear. Activities can also be non-inversible, directly producing a loss of information. This is not necessarily a drawback, as long as the lost information is superfluous."
   ]
  },
  {
   "cell_type": "code",
   "execution_count": null,
   "metadata": {},
   "outputs": [],
   "source": [
    "import numpy as np\n",
    "import matplotlib.pyplot as plt\n",
    "\n",
    "# Magic used by the notebook to show figures inline\n",
    "%matplotlib inline\n",
    "\n",
    "# auto-reloading packages\n",
    "%load_ext autoreload\n",
    "%autoreload 2"
   ]
  },
  {
   "cell_type": "code",
   "execution_count": null,
   "metadata": {},
   "outputs": [],
   "source": [
    "from activations import ActivationIdentity, ActivationTanh, ActivationSigmoid, ActivationRelu\n",
    "\n",
    "id = ActivationIdentity()\n",
    "tanh = ActivationTanh()\n",
    "sigmoid = ActivationSigmoid()\n",
    "relu = ActivationRelu()\n",
    "\n",
    "act_list = [id, tanh, sigmoid, relu]"
   ]
  },
  {
   "cell_type": "code",
   "execution_count": null,
   "metadata": {},
   "outputs": [],
   "source": [
    "x = np.arange(-4, 4, 0.05)\n",
    "\n",
    "figure = plt.figure(figsize=(12, 12))\n",
    "\n",
    "pos = 1\n",
    "for act in act_list:\n",
    "    ax = plt.subplot(2, 2, pos )\n",
    "    ax.set_title(act.name)\n",
    "    ax.grid()\n",
    "    plt.plot(x, act(x), label=\"act\")\n",
    "    plt.plot(x, act.grad(x), '.', label=\"grad\")\n",
    "    plt.legend()\n",
    "    plt.ylim(-4, 4)\n",
    "    pos += 1\n",
    "\n",
    "plt.show()"
   ]
  },
  {
   "cell_type": "code",
   "execution_count": null,
   "metadata": {},
   "outputs": [],
   "source": []
  }
 ],
 "metadata": {
  "kernelspec": {
   "display_name": "Python 3",
   "language": "python",
   "name": "python3"
  },
  "language_info": {
   "codemirror_mode": {
    "name": "ipython",
    "version": 3
   },
   "file_extension": ".py",
   "mimetype": "text/x-python",
   "name": "python",
   "nbconvert_exporter": "python",
   "pygments_lexer": "ipython3",
   "version": "3.6.4"
  }
 },
 "nbformat": 4,
 "nbformat_minor": 2
}
